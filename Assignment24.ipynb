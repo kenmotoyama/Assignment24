{
 "cells": [
  {
   "cell_type": "code",
   "execution_count": 1,
   "id": "055da949-c970-45da-9e43-1c0dbf5fa97f",
   "metadata": {},
   "outputs": [],
   "source": [
    "import pandas as pd\n",
    "import matplotlib.pyplot as plt\n",
    "import numpy as np\n",
    "import seaborn as sns\n",
    "import tensorflow as tf\n",
    "\n",
    "from sklearn.preprocessing import LabelEncoder\n",
    "from sklearn.model_selection import train_test_split, GridSearchCV\n",
    "from sklearn.preprocessing import StandardScaler, MinMaxScaler\n",
    "from sklearn.linear_model import LinearRegression, Ridge, LogisticRegression\n",
    "from sklearn.neighbors import KNeighborsRegressor\n",
    "from sklearn.tree import DecisionTreeRegressor\n",
    "from sklearn.metrics import mean_squared_error\n",
    "from sklearn.svm import SVR\n",
    "from sklearn.inspection import permutation_importance\n",
    "from sklearn.metrics import accuracy_score\n",
    "from sklearn.ensemble import BaggingClassifier\n",
    "from tensorflow.keras.layers import Flatten, Dense, Conv2D, MaxPool2D\n",
    "from sklearn.metrics import confusion_matrix\n",
    "from tensorflow.keras.layers import Dense\n",
    "from tensorflow.keras.models import Sequential"
   ]
  },
  {
   "cell_type": "code",
   "execution_count": 2,
   "id": "274816a6-59c4-4ef2-b32d-a8bf281dded0",
   "metadata": {},
   "outputs": [
    {
     "data": {
      "text/html": [
       "<div>\n",
       "<style scoped>\n",
       "    .dataframe tbody tr th:only-of-type {\n",
       "        vertical-align: middle;\n",
       "    }\n",
       "\n",
       "    .dataframe tbody tr th {\n",
       "        vertical-align: top;\n",
       "    }\n",
       "\n",
       "    .dataframe thead th {\n",
       "        text-align: right;\n",
       "    }\n",
       "</style>\n",
       "<table border=\"1\" class=\"dataframe\">\n",
       "  <thead>\n",
       "    <tr style=\"text-align: right;\">\n",
       "      <th></th>\n",
       "      <th>ID</th>\n",
       "      <th>PRG</th>\n",
       "      <th>PL</th>\n",
       "      <th>PR</th>\n",
       "      <th>SK</th>\n",
       "      <th>TS</th>\n",
       "      <th>M11</th>\n",
       "      <th>BD2</th>\n",
       "      <th>Age</th>\n",
       "      <th>Insurance</th>\n",
       "      <th>Sepssis</th>\n",
       "    </tr>\n",
       "  </thead>\n",
       "  <tbody>\n",
       "    <tr>\n",
       "      <th>0</th>\n",
       "      <td>ICU200010</td>\n",
       "      <td>6.0</td>\n",
       "      <td>148.00 mu U</td>\n",
       "      <td>72.00 mm Hg</td>\n",
       "      <td>35.00 mm</td>\n",
       "      <td>0.00 ml</td>\n",
       "      <td>33.60 BMI</td>\n",
       "      <td>0.63 mu U</td>\n",
       "      <td>50</td>\n",
       "      <td>0</td>\n",
       "      <td>Positive</td>\n",
       "    </tr>\n",
       "    <tr>\n",
       "      <th>1</th>\n",
       "      <td>ICU200011</td>\n",
       "      <td>1.0</td>\n",
       "      <td>85.00 mu U</td>\n",
       "      <td>66.00 mm Hg</td>\n",
       "      <td>29.00 mm</td>\n",
       "      <td>0.00 ml</td>\n",
       "      <td>26.60 BMI</td>\n",
       "      <td>0.35 mu U</td>\n",
       "      <td>31</td>\n",
       "      <td>0</td>\n",
       "      <td>Negative</td>\n",
       "    </tr>\n",
       "    <tr>\n",
       "      <th>2</th>\n",
       "      <td>ICU200012</td>\n",
       "      <td>8.0</td>\n",
       "      <td>183.00 mu U</td>\n",
       "      <td>64.00 mm Hg</td>\n",
       "      <td>0.00 mm</td>\n",
       "      <td>0.00 ml</td>\n",
       "      <td>23.30 BMI</td>\n",
       "      <td>0.67 mu U</td>\n",
       "      <td>32</td>\n",
       "      <td>1</td>\n",
       "      <td>Positive</td>\n",
       "    </tr>\n",
       "    <tr>\n",
       "      <th>3</th>\n",
       "      <td>ICU200013</td>\n",
       "      <td>1.0</td>\n",
       "      <td>89.00 mu U</td>\n",
       "      <td>66.00 mm Hg</td>\n",
       "      <td>23.00 mm</td>\n",
       "      <td>94.00 ml</td>\n",
       "      <td>28.10 BMI</td>\n",
       "      <td>0.17 mu U</td>\n",
       "      <td>21</td>\n",
       "      <td>1</td>\n",
       "      <td>Negative</td>\n",
       "    </tr>\n",
       "    <tr>\n",
       "      <th>4</th>\n",
       "      <td>ICU200014</td>\n",
       "      <td>0.0</td>\n",
       "      <td>137.00 mu U</td>\n",
       "      <td>40.00 mm Hg</td>\n",
       "      <td>35.00 mm</td>\n",
       "      <td>168.00 ml</td>\n",
       "      <td>43.10 BMI</td>\n",
       "      <td>2.29 mu U</td>\n",
       "      <td>33</td>\n",
       "      <td>1</td>\n",
       "      <td>Positive</td>\n",
       "    </tr>\n",
       "  </tbody>\n",
       "</table>\n",
       "</div>"
      ],
      "text/plain": [
       "          ID  PRG           PL           PR        SK         TS        M11  \\\n",
       "0  ICU200010  6.0  148.00 mu U  72.00 mm Hg  35.00 mm    0.00 ml  33.60 BMI   \n",
       "1  ICU200011  1.0   85.00 mu U  66.00 mm Hg  29.00 mm    0.00 ml  26.60 BMI   \n",
       "2  ICU200012  8.0  183.00 mu U  64.00 mm Hg   0.00 mm    0.00 ml  23.30 BMI   \n",
       "3  ICU200013  1.0   89.00 mu U  66.00 mm Hg  23.00 mm   94.00 ml  28.10 BMI   \n",
       "4  ICU200014  0.0  137.00 mu U  40.00 mm Hg  35.00 mm  168.00 ml  43.10 BMI   \n",
       "\n",
       "         BD2  Age  Insurance   Sepssis  \n",
       "0  0.63 mu U   50          0  Positive  \n",
       "1  0.35 mu U   31          0  Negative  \n",
       "2  0.67 mu U   32          1  Positive  \n",
       "3  0.17 mu U   21          1  Negative  \n",
       "4  2.29 mu U   33          1  Positive  "
      ]
     },
     "execution_count": 2,
     "metadata": {},
     "output_type": "execute_result"
    }
   ],
   "source": [
    "# Read in data source, display first 5 rows\n",
    "\n",
    "df = pd.read_csv('Paitients_Files_Train - Paitients_Files_Train.csv')\n",
    "df.head()"
   ]
  },
  {
   "cell_type": "code",
   "execution_count": 5,
   "id": "7fbf86ac-bab7-4333-9b65-8e3c62ac44ad",
   "metadata": {},
   "outputs": [
    {
     "name": "stdout",
     "output_type": "stream",
     "text": [
      "<class 'pandas.core.frame.DataFrame'>\n",
      "RangeIndex: 599 entries, 0 to 598\n",
      "Data columns (total 11 columns):\n",
      " #   Column     Non-Null Count  Dtype  \n",
      "---  ------     --------------  -----  \n",
      " 0   ID         599 non-null    object \n",
      " 1   PRG        599 non-null    float64\n",
      " 2   PL         599 non-null    object \n",
      " 3   PR         599 non-null    object \n",
      " 4   SK         599 non-null    object \n",
      " 5   TS         599 non-null    object \n",
      " 6   M11        599 non-null    object \n",
      " 7   BD2        599 non-null    object \n",
      " 8   Age        599 non-null    int64  \n",
      " 9   Insurance  599 non-null    int64  \n",
      " 10  Sepssis    599 non-null    object \n",
      "dtypes: float64(1), int64(2), object(8)\n",
      "memory usage: 51.6+ KB\n"
     ]
    }
   ],
   "source": [
    "df.info()"
   ]
  },
  {
   "cell_type": "code",
   "execution_count": 7,
   "id": "96dc37f1-41db-4597-9f4c-d09a63780529",
   "metadata": {},
   "outputs": [],
   "source": [
    "# Clean up data values by removing labels from vital columns\n",
    "# and encoding Sepssis column\n",
    "\n",
    "le = LabelEncoder()\n",
    "df['ID'] = df['ID'].str.replace(r'^ICU', '', regex=True)\n",
    "df['PL'] = df['PL'].str.replace(r'\\smu U', '', regex=True)\n",
    "df['PR'] = df['PR'].str.replace(r'\\smm Hg', '', regex=True)\n",
    "df['SK'] = df['SK'].str.replace(r'\\smm', '', regex=True)\n",
    "df['TS'] = df['TS'].str.replace(r'\\sml', '', regex=True)\n",
    "df['M11'] = df['M11'].str.replace(r'\\sBMI', '', regex=True)\n",
    "df['BD2'] = df['BD2'].str.replace(r'\\smu U', '', regex=True)\n",
    "df['Sepssis_encoded'] = le.fit_transform(df['Sepssis'])\n",
    "\n",
    "# Assign numerical values from strings in temp dataframe\n",
    "df_temp = df.drop(columns=['Sepssis', 'ID', 'PRG'], axis=1)\n",
    "df_temp = df_temp.apply(lambda x: pd.to_numeric(x), axis=0)\n"
   ]
  },
  {
   "cell_type": "code",
   "execution_count": 9,
   "id": "ee7f2f93-7154-404e-9537-8a69d07d1999",
   "metadata": {},
   "outputs": [
    {
     "data": {
      "text/plain": [
       "np.False_"
      ]
     },
     "execution_count": 9,
     "metadata": {},
     "output_type": "execute_result"
    }
   ],
   "source": [
    "# Check for NaN values\n",
    "\n",
    "df_temp.isna().any().any()"
   ]
  },
  {
   "cell_type": "code",
   "execution_count": 11,
   "id": "b3e59d0c-22be-466c-a9f5-c4612f6aca59",
   "metadata": {},
   "outputs": [
    {
     "data": {
      "text/plain": [
       "np.False_"
      ]
     },
     "execution_count": 11,
     "metadata": {},
     "output_type": "execute_result"
    }
   ],
   "source": [
    "# Check for null values\n",
    "\n",
    "df_temp.isnull().values.any()"
   ]
  },
  {
   "cell_type": "code",
   "execution_count": 13,
   "id": "d4a4317f-534c-4b66-8502-826c311e2ec8",
   "metadata": {},
   "outputs": [
    {
     "name": "stdout",
     "output_type": "stream",
     "text": [
      "<class 'pandas.core.frame.DataFrame'>\n",
      "RangeIndex: 599 entries, 0 to 598\n",
      "Data columns (total 9 columns):\n",
      " #   Column           Non-Null Count  Dtype  \n",
      "---  ------           --------------  -----  \n",
      " 0   PL               599 non-null    float64\n",
      " 1   PR               599 non-null    float64\n",
      " 2   SK               599 non-null    float64\n",
      " 3   TS               599 non-null    float64\n",
      " 4   M11              599 non-null    float64\n",
      " 5   BD2              599 non-null    float64\n",
      " 6   Age              599 non-null    int64  \n",
      " 7   Insurance        599 non-null    int64  \n",
      " 8   Sepssis_encoded  599 non-null    int64  \n",
      "dtypes: float64(6), int64(3)\n",
      "memory usage: 42.2 KB\n"
     ]
    }
   ],
   "source": [
    "# What are the new data types\n",
    "\n",
    "df_temp.info()"
   ]
  },
  {
   "cell_type": "code",
   "execution_count": 15,
   "id": "8c067cba-aa42-46fe-a7bd-2bc56a3cc955",
   "metadata": {},
   "outputs": [],
   "source": [
    "# Create training and testing data set from df_temp and df dataframe\n",
    "# Grab column names\n",
    "\n",
    "column_names = df_temp.columns\n",
    "\n",
    "# Scale the feeatures\n",
    "\n",
    "scaler = MinMaxScaler()\n",
    "scaler.fit(df_temp)\n",
    "df_temp = pd.DataFrame(scaler.fit_transform(df_temp), columns=column_names)\n",
    "X = df_temp.drop(columns=['Sepssis_encoded'], axis=1)\n",
    "\n",
    "# Sepssis is a binary value, no scaling needed\n",
    "y = df['Sepssis_encoded']\n",
    "\n",
    "# Create training and testing data\n",
    "X_Train, X_Test, y_train, y_test = train_test_split(X, y, test_size=0.3, random_state=42)"
   ]
  },
  {
   "cell_type": "code",
   "execution_count": 17,
   "id": "e46b03a6-695a-4378-84c0-2cf47913dbee",
   "metadata": {},
   "outputs": [],
   "source": [
    "# define the models to do a GridSearch over\n",
    "\n",
    "clfs = [LinearRegression(),\n",
    "        KNeighborsRegressor(), \n",
    "        DecisionTreeRegressor(), \n",
    "        Ridge(), \n",
    "        SVR()]\n",
    "\n",
    "# define the parameters to search over\n",
    "# this took a few guess and check runs \n",
    "# to settle on \n",
    "\n",
    "param_grids = {'linear': {},\n",
    "               'knn': {'n_neighbors': [23, 24, 25]},\n",
    "               'tree': {'max_depth': [1, 2, 3]},\n",
    "               'ridge': {'alpha': [0.1, 1, 2, 3, 4]},\n",
    "               'svr':  {'kernel' : ('linear', 'rbf', 'sigmoid'),\n",
    "                        'C' : [0.1, 0.5, 1.0, 1.5, 2.0],\n",
    "                        'degree' : [1, 3, 5, 7],\n",
    "                        'coef0' : [0.0001, 0.001, 0.01],\n",
    "                        'gamma' : ('auto','scale')}\n",
    "              }\n",
    "\n",
    "# store test/predicted mse errors in a dictionary\n",
    "\n",
    "results_mseerror_grid = {'linear': [],\n",
    "                      'knn': [],\n",
    "                      'decision': [],\n",
    "                      'ridge': [],\n",
    "                      'svr': []\n",
    "                     }\n",
    "\n",
    "# store best_score_ in a dictionary\n",
    "\n",
    "results_bestscore_grid = {'linear': [],\n",
    "                      'knn': [],\n",
    "                      'decision': [],\n",
    "                      'ridge': [],\n",
    "                      'svr': []\n",
    "                     }\n",
    "\n",
    "# store training accuracy in a dictionary\n",
    "\n",
    "training_results_accuracy_grid = {'linear': [],\n",
    "                      'knn': [],\n",
    "                      'decision': [],\n",
    "                      'ridge': [],\n",
    "                      'svr': []\n",
    "                     }\n",
    "\n",
    "# store test accuracy in a dictionary\n",
    "\n",
    "test_results_accuracy_grid = {'linear': [],\n",
    "                      'knn': [],\n",
    "                      'decision': [],\n",
    "                      'ridge': [],\n",
    "                      'svr': []\n",
    "                     }\n",
    "\n",
    "# store best parameters from GridSearch in a dictionary\n",
    "\n",
    "best_params_grid = {'linear': [],\n",
    "                    'knn': [],\n",
    "                    'decision': [],\n",
    "                    'ridge': [],\n",
    "                    'svr': []\n",
    "                   }\n",
    "\n",
    "k = 0\n",
    "\n",
    "# do a GridSearch using the different models and parameter grids\n",
    "\n",
    "for model, name in zip(clfs, ['linear', 'knn', 'tree', 'ridge', 'svr']):\n",
    "    grid_search = GridSearchCV(model, param_grids[name], cv=5, scoring='neg_mean_squared_error')\n",
    "    grid_search.fit(X_Train, y_train)\n",
    "    best_pipeline = grid_search.best_estimator_\n",
    "    best_score = grid_search.best_score_\n",
    "    y_pred_train = best_pipeline.predict(X_Train)\n",
    "    y_pred_train_class = np.where(y_pred_train >= 0.5, 1,0)\n",
    "    y_pred = best_pipeline.predict(X_Test)\n",
    "    y_pred_class = np.where(y_pred >= 0.5, 1,0)\n",
    "    results_mseerror_grid[list(results_mseerror_grid.keys())[k]] = mean_squared_error(y_test, y_pred_class)\n",
    "    results_bestscore_grid[list(results_bestscore_grid.keys())[k]] = best_score\n",
    "    training_results_accuracy_grid[list(training_results_accuracy_grid.keys())[k]] = accuracy_score(y_train, y_pred_train_class)\n",
    "    test_results_accuracy_grid[list(test_results_accuracy_grid.keys())[k]] = accuracy_score(y_test, y_pred_class)\n",
    "    best_params_grid[list(best_params_grid.keys())[k]] = grid_search.best_params_\n",
    "    k += 1\n"
   ]
  },
  {
   "cell_type": "code",
   "execution_count": 19,
   "id": "315fdc39-4aaa-4872-b2fc-6edb2bcf6ae4",
   "metadata": {},
   "outputs": [
    {
     "data": {
      "text/plain": [
       "{'linear': np.float64(0.2388888888888889),\n",
       " 'knn': np.float64(0.3333333333333333),\n",
       " 'decision': np.float64(0.28888888888888886),\n",
       " 'ridge': np.float64(0.2611111111111111),\n",
       " 'svr': np.float64(0.25)}"
      ]
     },
     "execution_count": 19,
     "metadata": {},
     "output_type": "execute_result"
    }
   ],
   "source": [
    "results_mseerror_grid"
   ]
  },
  {
   "cell_type": "code",
   "execution_count": 21,
   "id": "eb86ebc0-196a-4ea2-88b3-9908f19169ca",
   "metadata": {},
   "outputs": [
    {
     "data": {
      "text/plain": [
       "{'linear': 0.7780429594272077,\n",
       " 'knn': 0.766109785202864,\n",
       " 'decision': 0.7684964200477327,\n",
       " 'ridge': 0.7756563245823389,\n",
       " 'svr': 0.7947494033412887}"
      ]
     },
     "execution_count": 21,
     "metadata": {},
     "output_type": "execute_result"
    }
   ],
   "source": [
    "training_results_accuracy_grid"
   ]
  },
  {
   "cell_type": "code",
   "execution_count": 23,
   "id": "f0fd3625-7af0-4155-a2c1-05f9742220d7",
   "metadata": {},
   "outputs": [
    {
     "data": {
      "text/plain": [
       "{'linear': 0.7611111111111111,\n",
       " 'knn': 0.6666666666666666,\n",
       " 'decision': 0.7111111111111111,\n",
       " 'ridge': 0.7388888888888889,\n",
       " 'svr': 0.75}"
      ]
     },
     "execution_count": 23,
     "metadata": {},
     "output_type": "execute_result"
    }
   ],
   "source": [
    "test_results_accuracy_grid"
   ]
  },
  {
   "cell_type": "code",
   "execution_count": 25,
   "id": "484cc2c2-4046-4cd8-a212-6d4a7953bfde",
   "metadata": {},
   "outputs": [
    {
     "data": {
      "text/plain": [
       "{'linear': np.float64(-0.16119210778470738),\n",
       " 'knn': np.float64(-0.16876902451074138),\n",
       " 'decision': np.float64(-0.163637728632874),\n",
       " 'ridge': np.float64(-0.16068009000001543),\n",
       " 'svr': np.float64(-0.16329726451730922)}"
      ]
     },
     "execution_count": 25,
     "metadata": {},
     "output_type": "execute_result"
    }
   ],
   "source": [
    "results_bestscore_grid"
   ]
  },
  {
   "cell_type": "code",
   "execution_count": 27,
   "id": "886d5b27-1948-424a-a33e-73881e2ca08a",
   "metadata": {},
   "outputs": [
    {
     "data": {
      "text/plain": [
       "{'linear': {},\n",
       " 'knn': {'n_neighbors': 24},\n",
       " 'decision': {'max_depth': 2},\n",
       " 'ridge': {'alpha': 1},\n",
       " 'svr': {'C': 0.5,\n",
       "  'coef0': 0.0001,\n",
       "  'degree': 1,\n",
       "  'gamma': 'scale',\n",
       "  'kernel': 'rbf'}}"
      ]
     },
     "execution_count": 27,
     "metadata": {},
     "output_type": "execute_result"
    }
   ],
   "source": [
    "best_params_grid"
   ]
  },
  {
   "cell_type": "code",
   "execution_count": 29,
   "id": "feaab044-e1ea-4515-883a-36790171fe77",
   "metadata": {},
   "outputs": [
    {
     "name": "stdout",
     "output_type": "stream",
     "text": [
      "\n",
      "Coefficients from Ridge Regression:\n",
      "     feature  coefficient\n",
      "0         PL     1.018130\n",
      "4        M11     0.990655\n",
      "5        BD2     0.367955\n",
      "6        Age     0.204976\n",
      "7  Insurance     0.072684\n",
      "3         TS     0.068662\n",
      "2         SK    -0.032800\n",
      "1         PR    -0.180991\n"
     ]
    }
   ],
   "source": [
    "# Coefficients from Ridge regression\n",
    "# had the lowest best_score_  \n",
    "# using best_params from run\n",
    "\n",
    "ridge_reg = Ridge(alpha = 1)\n",
    "ridge_reg.fit(X_Train, y_train)\n",
    "coefficients_ridge = ridge_reg.coef_\n",
    "coefficients_ridge_df = pd.DataFrame({'feature': X_Train.columns, 'coefficient': coefficients_ridge})\n",
    "coefficients_ridge_df = coefficients_ridge_df.sort_values(by='coefficient', ascending=False)\n",
    "print(\"\\nCoefficients from Ridge Regression:\")\n",
    "print(coefficients_ridge_df)"
   ]
  },
  {
   "cell_type": "code",
   "execution_count": 31,
   "id": "2bf97a1e-78c5-4f57-b136-11e6d18ded85",
   "metadata": {},
   "outputs": [
    {
     "name": "stdout",
     "output_type": "stream",
     "text": [
      "\n",
      "Coefficients from Linear Regression:\n",
      "     feature  coefficient\n",
      "4        M11     1.209178\n",
      "0         PL     1.098425\n",
      "5        BD2     0.382251\n",
      "6        Age     0.200655\n",
      "7  Insurance     0.068691\n",
      "3         TS     0.039529\n",
      "2         SK    -0.075161\n",
      "1         PR    -0.229274\n"
     ]
    }
   ],
   "source": [
    "# Coefficients from Linear regression\n",
    "\n",
    "linear_reg = LinearRegression()\n",
    "linear_reg.fit(X_Train, y_train)\n",
    "coefficients_linear = linear_reg.coef_\n",
    "coefficients_linear_df = pd.DataFrame({'feature': X_Train.columns, 'coefficient': coefficients_linear})\n",
    "coefficients_linear_df = coefficients_linear_df.sort_values(by='coefficient', ascending=False)\n",
    "print(\"\\nCoefficients from Linear Regression:\")\n",
    "print(coefficients_linear_df)"
   ]
  },
  {
   "cell_type": "code",
   "execution_count": 33,
   "id": "b520599e-90d4-4b2c-a972-0825f8447f78",
   "metadata": {},
   "outputs": [
    {
     "name": "stdout",
     "output_type": "stream",
     "text": [
      "\n",
      "Permutation Importance from KNN:\n",
      "     feature  importance\n",
      "0         PL    0.180248\n",
      "6        Age    0.060548\n",
      "4        M11    0.049600\n",
      "7  Insurance    0.014462\n",
      "2         SK    0.010151\n",
      "1         PR    0.010097\n",
      "5        BD2    0.003771\n",
      "3         TS    0.000274\n"
     ]
    }
   ],
   "source": [
    "# Feature importance using permutation for KNN\n",
    "# using values from best run\n",
    "\n",
    "best_knn = KNeighborsRegressor(n_neighbors = 24) \n",
    "best_knn.fit(X_Train, y_train)\n",
    "result_knn = permutation_importance(best_knn, X_Test, y_test, n_repeats=10, random_state=42, n_jobs=-1)\n",
    "perm_importances_knn = pd.DataFrame({'feature': X_Test.columns, 'importance': result_knn.importances_mean})\n",
    "perm_importances_knn = perm_importances_knn.sort_values(by='importance', ascending=False)\n",
    "print(\"\\nPermutation Importance from KNN:\")\n",
    "print(perm_importances_knn)"
   ]
  },
  {
   "cell_type": "code",
   "execution_count": 35,
   "id": "e3e6ebe4-92ca-45e3-bc53-664d1a05c00c",
   "metadata": {},
   "outputs": [
    {
     "name": "stdout",
     "output_type": "stream",
     "text": [
      "\n",
      "Permutation Importance from SVR:\n",
      "     feature  importance\n",
      "0         PL    0.303453\n",
      "4        M11    0.121438\n",
      "1         PR    0.025345\n",
      "6        Age    0.019182\n",
      "5        BD2    0.005347\n",
      "2         SK    0.004170\n",
      "7  Insurance   -0.000478\n",
      "3         TS   -0.019115\n"
     ]
    }
   ],
   "source": [
    "# Feature importance using permutation for SVR\n",
    "# using values from best run\n",
    "\n",
    "best_svr = SVR(C = 0.5, coef0 = 0.0001, degree = 1, gamma = 'auto', kernel = 'linear')\n",
    "best_svr.fit(X_Train, y_train)\n",
    "result_svr = permutation_importance(best_svr, X_Test, y_test, random_state=42)\n",
    "perm_importances_svr = pd.DataFrame({'feature': X_Test.columns, 'importance': result_svr.importances_mean})\n",
    "perm_importances_svr = perm_importances_svr.sort_values(by='importance', ascending=False)\n",
    "print(\"\\nPermutation Importance from SVR:\")\n",
    "print(perm_importances_svr)"
   ]
  },
  {
   "cell_type": "code",
   "execution_count": 37,
   "id": "782ea3c9-5818-4e26-b513-916c73607f2f",
   "metadata": {},
   "outputs": [
    {
     "name": "stdout",
     "output_type": "stream",
     "text": [
      "\n",
      "Feature Importance from Decision Tree:\n",
      "     feature  importance\n",
      "0         PL    0.894542\n",
      "4        M11    0.105458\n",
      "1         PR    0.000000\n",
      "2         SK    0.000000\n",
      "3         TS    0.000000\n",
      "5        BD2    0.000000\n",
      "6        Age    0.000000\n",
      "7  Insurance    0.000000\n"
     ]
    }
   ],
   "source": [
    "# Feature importance from Decision Tree\n",
    "# using values from best run\n",
    "\n",
    "tree_reg = DecisionTreeRegressor(max_depth = 2)\n",
    "tree_reg.fit(X_Train, y_train)\n",
    "importances_tree = tree_reg.feature_importances_\n",
    "feature_importance_tree_df = pd.DataFrame({'feature': X_Train.columns, 'importance': importances_tree})\n",
    "feature_importance_tree_df = feature_importance_tree_df.sort_values(by='importance', ascending=False)\n",
    "print(\"\\nFeature Importance from Decision Tree:\")\n",
    "print(feature_importance_tree_df)"
   ]
  },
  {
   "cell_type": "code",
   "execution_count": 63,
   "id": "19b7fbf2-5827-40c1-b030-c710965a86b7",
   "metadata": {},
   "outputs": [
    {
     "name": "stdout",
     "output_type": "stream",
     "text": [
      "0.7732697129249573\n"
     ]
    }
   ],
   "source": [
    "# set random seed\n",
    "\n",
    "tf.random.set_seed(42)\n",
    "\n",
    "# Test run 1 with neural network\n",
    "# Create 1 hidden node in the neural network, output should be \n",
    "# binary/sigmoid as trying to predict sepsis binary value\n",
    "\n",
    "model = Sequential([\n",
    "    Dense(100, activation = 'relu'),\n",
    "    Dense(5, activation = 'relu'),\n",
    "    Dense(1, activation = 'sigmoid')\n",
    "])\n",
    "\n",
    "# set what we are optimizing for (binary values), and fit model\n",
    "model.compile(loss = 'bce', optimizer = 'rmsprop', metrics = ['accuracy'])\n",
    "history = model.fit(X_Train, y_train, epochs = 20, batch_size = 10, verbose = 0)\n",
    "\n",
    "# how does the model accuracy look on our training data\n",
    "# the result is in the ballpark of the linear model from Assignment 20\n",
    "# but need to check for overfitting\n",
    "print(history.history['accuracy'][-1])"
   ]
  },
  {
   "cell_type": "code",
   "execution_count": 65,
   "id": "3e88c38b-18a9-4af5-ab12-ba07fd5a21c4",
   "metadata": {},
   "outputs": [
    {
     "name": "stdout",
     "output_type": "stream",
     "text": [
      "0.7541766166687012\n"
     ]
    }
   ],
   "source": [
    "# Test run 2 with neural network\n",
    "# Simplify the neural net by removing hidden nodes,\n",
    "# set what we are optimizing for binary values\n",
    "# using sigmoid and fit model\n",
    "\n",
    "model = Sequential([\n",
    "    Dense(100, activation = 'relu'),\n",
    "    Dense(1, activation = 'sigmoid')\n",
    "])\n",
    "model.compile(loss = 'bce', optimizer = 'rmsprop', metrics = ['accuracy'])\n",
    "\n",
    "history = model.fit(X_Train, y_train, epochs = 20, batch_size = 10, verbose = 0)\n",
    "\n",
    "# how does the model accuracy look on our training data\n",
    "# the result is also in the ballpark of the linear model from \n",
    "# Assignment 20 (still worse than the linear model though)\n",
    "# and about the same performance as the more complex neural net\n",
    "\n",
    "print(history.history['accuracy'][-1])"
   ]
  },
  {
   "cell_type": "code",
   "execution_count": 67,
   "id": "56b49de5-e536-46bf-b58d-6fe792cbe15d",
   "metadata": {},
   "outputs": [
    {
     "name": "stdout",
     "output_type": "stream",
     "text": [
      "Epoch 1/20\n",
      "\u001b[1m42/42\u001b[0m \u001b[32m━━━━━━━━━━━━━━━━━━━━\u001b[0m\u001b[37m\u001b[0m \u001b[1m2s\u001b[0m 28ms/step - accuracy: 0.5846 - loss: 0.6987 - val_accuracy: 0.5444 - val_loss: 0.6792\n",
      "Epoch 2/20\n",
      "\u001b[1m42/42\u001b[0m \u001b[32m━━━━━━━━━━━━━━━━━━━━\u001b[0m\u001b[37m\u001b[0m \u001b[1m1s\u001b[0m 24ms/step - accuracy: 0.6501 - loss: 0.6051 - val_accuracy: 0.5944 - val_loss: 0.6825\n",
      "Epoch 3/20\n",
      "\u001b[1m42/42\u001b[0m \u001b[32m━━━━━━━━━━━━━━━━━━━━\u001b[0m\u001b[37m\u001b[0m \u001b[1m1s\u001b[0m 23ms/step - accuracy: 0.6903 - loss: 0.5729 - val_accuracy: 0.6111 - val_loss: 0.6904\n",
      "Epoch 4/20\n",
      "\u001b[1m42/42\u001b[0m \u001b[32m━━━━━━━━━━━━━━━━━━━━\u001b[0m\u001b[37m\u001b[0m \u001b[1m1s\u001b[0m 23ms/step - accuracy: 0.7096 - loss: 0.5529 - val_accuracy: 0.6111 - val_loss: 0.6913\n",
      "Epoch 5/20\n",
      "\u001b[1m42/42\u001b[0m \u001b[32m━━━━━━━━━━━━━━━━━━━━\u001b[0m\u001b[37m\u001b[0m \u001b[1m1s\u001b[0m 23ms/step - accuracy: 0.7174 - loss: 0.5370 - val_accuracy: 0.6278 - val_loss: 0.6912\n",
      "Epoch 6/20\n",
      "\u001b[1m42/42\u001b[0m \u001b[32m━━━━━━━━━━━━━━━━━━━━\u001b[0m\u001b[37m\u001b[0m \u001b[1m1s\u001b[0m 23ms/step - accuracy: 0.7222 - loss: 0.5248 - val_accuracy: 0.6500 - val_loss: 0.6884\n",
      "Epoch 7/20\n",
      "\u001b[1m42/42\u001b[0m \u001b[32m━━━━━━━━━━━━━━━━━━━━\u001b[0m\u001b[37m\u001b[0m \u001b[1m1s\u001b[0m 23ms/step - accuracy: 0.7372 - loss: 0.5145 - val_accuracy: 0.6611 - val_loss: 0.6865\n",
      "Epoch 8/20\n",
      "\u001b[1m42/42\u001b[0m \u001b[32m━━━━━━━━━━━━━━━━━━━━\u001b[0m\u001b[37m\u001b[0m \u001b[1m1s\u001b[0m 23ms/step - accuracy: 0.7532 - loss: 0.5068 - val_accuracy: 0.6722 - val_loss: 0.6816\n",
      "Epoch 9/20\n",
      "\u001b[1m42/42\u001b[0m \u001b[32m━━━━━━━━━━━━━━━━━━━━\u001b[0m\u001b[37m\u001b[0m \u001b[1m1s\u001b[0m 24ms/step - accuracy: 0.7573 - loss: 0.5004 - val_accuracy: 0.6722 - val_loss: 0.6772\n",
      "Epoch 10/20\n",
      "\u001b[1m42/42\u001b[0m \u001b[32m━━━━━━━━━━━━━━━━━━━━\u001b[0m\u001b[37m\u001b[0m \u001b[1m1s\u001b[0m 23ms/step - accuracy: 0.7668 - loss: 0.4952 - val_accuracy: 0.6722 - val_loss: 0.6742\n",
      "Epoch 11/20\n",
      "\u001b[1m42/42\u001b[0m \u001b[32m━━━━━━━━━━━━━━━━━━━━\u001b[0m\u001b[37m\u001b[0m \u001b[1m1s\u001b[0m 23ms/step - accuracy: 0.7695 - loss: 0.4905 - val_accuracy: 0.6722 - val_loss: 0.6739\n",
      "Epoch 12/20\n",
      "\u001b[1m42/42\u001b[0m \u001b[32m━━━━━━━━━━━━━━━━━━━━\u001b[0m\u001b[37m\u001b[0m \u001b[1m1s\u001b[0m 23ms/step - accuracy: 0.7713 - loss: 0.4862 - val_accuracy: 0.6722 - val_loss: 0.6748\n",
      "Epoch 13/20\n",
      "\u001b[1m42/42\u001b[0m \u001b[32m━━━━━━━━━━━━━━━━━━━━\u001b[0m\u001b[37m\u001b[0m \u001b[1m1s\u001b[0m 23ms/step - accuracy: 0.7686 - loss: 0.4819 - val_accuracy: 0.6722 - val_loss: 0.6759\n",
      "Epoch 14/20\n",
      "\u001b[1m42/42\u001b[0m \u001b[32m━━━━━━━━━━━━━━━━━━━━\u001b[0m\u001b[37m\u001b[0m \u001b[1m1s\u001b[0m 24ms/step - accuracy: 0.7667 - loss: 0.4787 - val_accuracy: 0.6778 - val_loss: 0.6772\n",
      "Epoch 15/20\n",
      "\u001b[1m42/42\u001b[0m \u001b[32m━━━━━━━━━━━━━━━━━━━━\u001b[0m\u001b[37m\u001b[0m \u001b[1m1s\u001b[0m 24ms/step - accuracy: 0.7728 - loss: 0.4757 - val_accuracy: 0.6833 - val_loss: 0.6803\n",
      "Epoch 16/20\n",
      "\u001b[1m42/42\u001b[0m \u001b[32m━━━━━━━━━━━━━━━━━━━━\u001b[0m\u001b[37m\u001b[0m \u001b[1m1s\u001b[0m 24ms/step - accuracy: 0.7728 - loss: 0.4728 - val_accuracy: 0.6944 - val_loss: 0.6817\n",
      "Epoch 17/20\n",
      "\u001b[1m42/42\u001b[0m \u001b[32m━━━━━━━━━━━━━━━━━━━━\u001b[0m\u001b[37m\u001b[0m \u001b[1m1s\u001b[0m 24ms/step - accuracy: 0.7786 - loss: 0.4698 - val_accuracy: 0.7056 - val_loss: 0.6837\n",
      "Epoch 18/20\n",
      "\u001b[1m42/42\u001b[0m \u001b[32m━━━━━━━━━━━━━━━━━━━━\u001b[0m\u001b[37m\u001b[0m \u001b[1m1s\u001b[0m 24ms/step - accuracy: 0.7830 - loss: 0.4674 - val_accuracy: 0.7056 - val_loss: 0.6849\n",
      "Epoch 19/20\n",
      "\u001b[1m42/42\u001b[0m \u001b[32m━━━━━━━━━━━━━━━━━━━━\u001b[0m\u001b[37m\u001b[0m \u001b[1m1s\u001b[0m 24ms/step - accuracy: 0.7882 - loss: 0.4642 - val_accuracy: 0.7056 - val_loss: 0.6878\n",
      "Epoch 20/20\n",
      "\u001b[1m42/42\u001b[0m \u001b[32m━━━━━━━━━━━━━━━━━━━━\u001b[0m\u001b[37m\u001b[0m \u001b[1m1s\u001b[0m 24ms/step - accuracy: 0.7893 - loss: 0.4618 - val_accuracy: 0.7056 - val_loss: 0.6908\n",
      "Mixed activation training accuracy 0.8042959570884705\n",
      "Mixed activation testing accuracy 0.7055555582046509\n"
     ]
    }
   ],
   "source": [
    "# let's try a more complex network design with different\n",
    "# activation functions at each node, 1 hidden node, with\n",
    "# 1000 nodes at input using tanh, 10000 in hidden node\n",
    "# using relue, and a singular output node using sigmoid \n",
    "# for binary output\n",
    "\n",
    "model_mixed_activ = Sequential([\n",
    "    Dense(1000, activation = 'tanh'),\n",
    "    Dense(10000, activation = 'relu'),\n",
    "    Dense(1, activation = 'sigmoid')\n",
    "])\n",
    "model_mixed_activ.compile(loss = 'bce', optimizer = 'rmsprop', metrics = ['accuracy'])\n",
    "\n",
    "# use test set for data validation and then display \n",
    "# training and testing accuracy\n",
    "history_mixed_activ = model_mixed_activ.fit(X_Train, y_train, validation_data = (X_Test, y_test), verbose = 1,epochs = 20, batch_size = 10)\n",
    "\n",
    "# the results indicate overfitting despite initial result on\n",
    "# training set that indicates the model performs better (80.4% \n",
    "# accuracy) compares to the linear one from Assignment 20:(\n",
    "\n",
    "print(\"Mixed activation training accuracy\", history_mixed_activ.history['accuracy'][-1])\n",
    "print(\"Mixed activation testing accuracy\", history_mixed_activ.history['val_accuracy'][-1])"
   ]
  },
  {
   "cell_type": "code",
   "execution_count": 71,
   "id": "20602677-cba5-4e18-bafb-68f49dd6356b",
   "metadata": {},
   "outputs": [
    {
     "name": "stdout",
     "output_type": "stream",
     "text": [
      "Mixed activation mse 0.6907750368118286\n"
     ]
    }
   ],
   "source": [
    "print(\"Mixed activation mse\", model_mixed_activ.evaluate(X_Test, y_test, verbose=0)[0])"
   ]
  },
  {
   "cell_type": "code",
   "execution_count": 73,
   "id": "a9fa449f-1c72-4881-93c8-5b73ba984e11",
   "metadata": {},
   "outputs": [
    {
     "name": "stdout",
     "output_type": "stream",
     "text": [
      "\n",
      "Permutation Importance from Tanh/Relu/Sigmoid NN:\n",
      "     feature  importance\n",
      "0         PL    0.149444\n",
      "4        M11    0.056111\n",
      "6        Age    0.021667\n",
      "3         TS    0.016111\n",
      "7  Insurance    0.013889\n",
      "1         PR    0.003333\n",
      "5        BD2   -0.001111\n",
      "2         SK   -0.002778\n"
     ]
    }
   ],
   "source": [
    "def score_model(model, X, y):\n",
    "    _, accuracy = model.evaluate(X, y, verbose=0)\n",
    "    return accuracy\n",
    "\n",
    "result_mixednn = permutation_importance(model_mixed_activ, X_Test, y_test, scoring=score_model, n_repeats=10, random_state=42)\n",
    "perm_importances_mixednn = pd.DataFrame({'feature': X_Test.columns, 'importance': result_mixednn.importances_mean})\n",
    "perm_importances_mixednn = perm_importances_mixednn.sort_values(by='importance', ascending=False)\n",
    "print(\"\\nPermutation Importance from Tanh/Relu/Sigmoid NN:\")\n",
    "print(perm_importances_mixednn)"
   ]
  },
  {
   "cell_type": "code",
   "execution_count": 75,
   "id": "56a13ca9-4bdc-4279-8c0e-51c9dfa123b3",
   "metadata": {},
   "outputs": [
    {
     "name": "stdout",
     "output_type": "stream",
     "text": [
      "Epoch 1/20\n",
      "\u001b[1m84/84\u001b[0m \u001b[32m━━━━━━━━━━━━━━━━━━━━\u001b[0m\u001b[37m\u001b[0m \u001b[1m0s\u001b[0m 2ms/step - accuracy: 0.6654 - loss: 0.6592 - val_accuracy: 0.6333 - val_loss: 0.6567\n",
      "Epoch 2/20\n",
      "\u001b[1m84/84\u001b[0m \u001b[32m━━━━━━━━━━━━━━━━━━━━\u001b[0m\u001b[37m\u001b[0m \u001b[1m0s\u001b[0m 824us/step - accuracy: 0.6749 - loss: 0.6342 - val_accuracy: 0.6333 - val_loss: 0.6498\n",
      "Epoch 3/20\n",
      "\u001b[1m84/84\u001b[0m \u001b[32m━━━━━━━━━━━━━━━━━━━━\u001b[0m\u001b[37m\u001b[0m \u001b[1m0s\u001b[0m 776us/step - accuracy: 0.6749 - loss: 0.6242 - val_accuracy: 0.6333 - val_loss: 0.6429\n",
      "Epoch 4/20\n",
      "\u001b[1m84/84\u001b[0m \u001b[32m━━━━━━━━━━━━━━━━━━━━\u001b[0m\u001b[37m\u001b[0m \u001b[1m0s\u001b[0m 795us/step - accuracy: 0.6761 - loss: 0.6149 - val_accuracy: 0.6222 - val_loss: 0.6363\n",
      "Epoch 5/20\n",
      "\u001b[1m84/84\u001b[0m \u001b[32m━━━━━━━━━━━━━━━━━━━━\u001b[0m\u001b[37m\u001b[0m \u001b[1m0s\u001b[0m 774us/step - accuracy: 0.6762 - loss: 0.6060 - val_accuracy: 0.6222 - val_loss: 0.6296\n",
      "Epoch 6/20\n",
      "\u001b[1m84/84\u001b[0m \u001b[32m━━━━━━━━━━━━━━━━━━━━\u001b[0m\u001b[37m\u001b[0m \u001b[1m0s\u001b[0m 790us/step - accuracy: 0.6840 - loss: 0.5972 - val_accuracy: 0.6333 - val_loss: 0.6231\n",
      "Epoch 7/20\n",
      "\u001b[1m84/84\u001b[0m \u001b[32m━━━━━━━━━━━━━━━━━━━━\u001b[0m\u001b[37m\u001b[0m \u001b[1m0s\u001b[0m 790us/step - accuracy: 0.6883 - loss: 0.5883 - val_accuracy: 0.6389 - val_loss: 0.6164\n",
      "Epoch 8/20\n",
      "\u001b[1m84/84\u001b[0m \u001b[32m━━━━━━━━━━━━━━━━━━━━\u001b[0m\u001b[37m\u001b[0m \u001b[1m0s\u001b[0m 791us/step - accuracy: 0.7142 - loss: 0.5799 - val_accuracy: 0.6556 - val_loss: 0.6102\n",
      "Epoch 9/20\n",
      "\u001b[1m84/84\u001b[0m \u001b[32m━━━━━━━━━━━━━━━━━━━━\u001b[0m\u001b[37m\u001b[0m \u001b[1m0s\u001b[0m 831us/step - accuracy: 0.7209 - loss: 0.5722 - val_accuracy: 0.6833 - val_loss: 0.6042\n",
      "Epoch 10/20\n",
      "\u001b[1m84/84\u001b[0m \u001b[32m━━━━━━━━━━━━━━━━━━━━\u001b[0m\u001b[37m\u001b[0m \u001b[1m0s\u001b[0m 774us/step - accuracy: 0.7087 - loss: 0.5649 - val_accuracy: 0.6778 - val_loss: 0.5983\n",
      "Epoch 11/20\n",
      "\u001b[1m84/84\u001b[0m \u001b[32m━━━━━━━━━━━━━━━━━━━━\u001b[0m\u001b[37m\u001b[0m \u001b[1m0s\u001b[0m 764us/step - accuracy: 0.7104 - loss: 0.5582 - val_accuracy: 0.6778 - val_loss: 0.5932\n",
      "Epoch 12/20\n",
      "\u001b[1m84/84\u001b[0m \u001b[32m━━━━━━━━━━━━━━━━━━━━\u001b[0m\u001b[37m\u001b[0m \u001b[1m0s\u001b[0m 764us/step - accuracy: 0.7212 - loss: 0.5522 - val_accuracy: 0.6778 - val_loss: 0.5885\n",
      "Epoch 13/20\n",
      "\u001b[1m84/84\u001b[0m \u001b[32m━━━━━━━━━━━━━━━━━━━━\u001b[0m\u001b[37m\u001b[0m \u001b[1m0s\u001b[0m 809us/step - accuracy: 0.7165 - loss: 0.5467 - val_accuracy: 0.6833 - val_loss: 0.5842\n",
      "Epoch 14/20\n",
      "\u001b[1m84/84\u001b[0m \u001b[32m━━━━━━━━━━━━━━━━━━━━\u001b[0m\u001b[37m\u001b[0m \u001b[1m0s\u001b[0m 852us/step - accuracy: 0.7198 - loss: 0.5416 - val_accuracy: 0.6722 - val_loss: 0.5803\n",
      "Epoch 15/20\n",
      "\u001b[1m84/84\u001b[0m \u001b[32m━━━━━━━━━━━━━━━━━━━━\u001b[0m\u001b[37m\u001b[0m \u001b[1m0s\u001b[0m 855us/step - accuracy: 0.7287 - loss: 0.5370 - val_accuracy: 0.6889 - val_loss: 0.5767\n",
      "Epoch 16/20\n",
      "\u001b[1m84/84\u001b[0m \u001b[32m━━━━━━━━━━━━━━━━━━━━\u001b[0m\u001b[37m\u001b[0m \u001b[1m0s\u001b[0m 837us/step - accuracy: 0.7337 - loss: 0.5328 - val_accuracy: 0.6889 - val_loss: 0.5737\n",
      "Epoch 17/20\n",
      "\u001b[1m84/84\u001b[0m \u001b[32m━━━━━━━━━━━━━━━━━━━━\u001b[0m\u001b[37m\u001b[0m \u001b[1m0s\u001b[0m 799us/step - accuracy: 0.7345 - loss: 0.5289 - val_accuracy: 0.6944 - val_loss: 0.5708\n",
      "Epoch 18/20\n",
      "\u001b[1m84/84\u001b[0m \u001b[32m━━━━━━━━━━━━━━━━━━━━\u001b[0m\u001b[37m\u001b[0m \u001b[1m0s\u001b[0m 1ms/step - accuracy: 0.7326 - loss: 0.5253 - val_accuracy: 0.7000 - val_loss: 0.5681\n",
      "Epoch 19/20\n",
      "\u001b[1m84/84\u001b[0m \u001b[32m━━━━━━━━━━━━━━━━━━━━\u001b[0m\u001b[37m\u001b[0m \u001b[1m0s\u001b[0m 790us/step - accuracy: 0.7298 - loss: 0.5218 - val_accuracy: 0.7000 - val_loss: 0.5655\n",
      "Epoch 20/20\n",
      "\u001b[1m84/84\u001b[0m \u001b[32m━━━━━━━━━━━━━━━━━━━━\u001b[0m\u001b[37m\u001b[0m \u001b[1m0s\u001b[0m 764us/step - accuracy: 0.7423 - loss: 0.5184 - val_accuracy: 0.7167 - val_loss: 0.5630\n",
      "Nonmixed activation training accuracy 0.7637231349945068\n",
      "Nonmixed activation testing accuracy 0.7166666388511658\n"
     ]
    }
   ],
   "source": [
    "# let's try another variant but only using relu as the\n",
    "# activation function at the input node, and then a\n",
    "# using sigmoid at the output node due to binary prediction\n",
    "\n",
    "model_nonmixed = Sequential([\n",
    "    Dense(100, activation = 'relu'),\n",
    "    Dense(1, activation = 'sigmoid')\n",
    "])\n",
    "model_nonmixed.compile(loss = 'bce', optimizer = 'rmsprop', metrics = ['accuracy'])\n",
    "\n",
    "history_simplenn = model_nonmixed.fit(X_Train, y_train, validation_data = (X_Test, y_test), verbose = 1,epochs = 20, batch_size = 5)\n",
    "\n",
    "# the results also indicate overfitting compared\n",
    "# to the linear one from Assignment 20:(\n",
    "\n",
    "print(\"Nonmixed activation training accuracy\", history_simplenn.history['accuracy'][-1])\n",
    "print(\"Nonmixed activation testing accuracy\", history_simplenn.history['val_accuracy'][-1])"
   ]
  },
  {
   "cell_type": "code",
   "execution_count": 79,
   "id": "3eb23c76-c3a0-437f-ab0f-2d1e18ccf2de",
   "metadata": {},
   "outputs": [
    {
     "name": "stdout",
     "output_type": "stream",
     "text": [
      "Nonmixed activation mse 0.5629549622535706\n"
     ]
    }
   ],
   "source": [
    "print(\"Nonmixed activation mse\", model_nonmixed.evaluate(X_Test, y_test, verbose=0)[0])"
   ]
  },
  {
   "cell_type": "code",
   "execution_count": 81,
   "id": "6c3607fe-d8e9-472c-aba4-2ed9e54d0f9e",
   "metadata": {},
   "outputs": [
    {
     "name": "stdout",
     "output_type": "stream",
     "text": [
      "\n",
      "Permutation Importance from Relu/Sigmoid NN:\n",
      "     feature  importance\n",
      "0         PL    0.096667\n",
      "6        Age    0.044444\n",
      "1         PR    0.029444\n",
      "4        M11    0.025556\n",
      "5        BD2    0.018889\n",
      "2         SK    0.007778\n",
      "7  Insurance   -0.005556\n",
      "3         TS   -0.007778\n"
     ]
    }
   ],
   "source": [
    "result_nonmixed = permutation_importance(model_nonmixed, X_Test, y_test, scoring=score_model, n_repeats=10, random_state=42)\n",
    "perm_importances_nonmixed = pd.DataFrame({'feature': X_Test.columns, 'importance': result_nonmixed.importances_mean})\n",
    "perm_importances_nonmixed = perm_importances_nonmixed.sort_values(by='importance', ascending=False)\n",
    "print(\"\\nPermutation Importance from Relu/Sigmoid NN:\")\n",
    "print(perm_importances_nonmixed)"
   ]
  },
  {
   "cell_type": "code",
   "execution_count": 82,
   "id": "29af93f2-166c-4ab7-9eee-302288bd253d",
   "metadata": {},
   "outputs": [
    {
     "data": {
      "image/png": "[encoded data removed]",
      "text/plain": [
       "<Figure size 1500x1000 with 1 Axes>"
      ]
     },
     "metadata": {},
     "output_type": "display_data"
    }
   ],
   "source": [
    "# Plotting the feature importances and coefficients\n",
    "plt.figure(figsize=(15, 10))\n",
    "\n",
    "# Plot Decision Tree feature importance\n",
    "plt.barh(feature_importance_tree_df['feature'], feature_importance_tree_df['importance'], color='red', alpha=0.6, label='Decision Tree')\n",
    "\n",
    "# Plot Linear Regression coefficients\n",
    "plt.barh(coefficients_linear_df['feature'], coefficients_linear_df['coefficient'], color='blue', alpha=0.6, label='Linear Regression')\n",
    "\n",
    "# Plot Ridge Regression coefficients\n",
    "plt.barh(coefficients_ridge_df['feature'], coefficients_ridge_df['coefficient'], color='green', alpha=0.6, label='Ridge Regression')\n",
    "\n",
    "# Plot KNN permutation importance\n",
    "plt.barh(perm_importances_knn['feature'], perm_importances_knn['importance'], color='purple', alpha=0.6, label='KNN')\n",
    "\n",
    "# Plot SVR permutation importance\n",
    "plt.barh(perm_importances_svr['feature'], perm_importances_svr['importance'], color='orange', alpha=0.6, label='SVR')\n",
    "\n",
    "# Plot Mixed activation permutation importance\n",
    "plt.barh(perm_importances_mixednn['feature'], perm_importances_mixednn['importance'], color='black', alpha=0.6, label='Mixed Activation NN')\n",
    "\n",
    "# Plot Nonmixed activation permutation importance\n",
    "plt.barh(perm_importances_nonmixed['feature'], perm_importances_nonmixed['importance'], color='brown', alpha=0.6, label='Nonmixed Activation NN')\n",
    "\n",
    "plt.xlabel('Importance / Coefficient Value')\n",
    "plt.ylabel('Features')\n",
    "plt.title('Feature Importances and Coefficients from Various Models')\n",
    "plt.legend()\n",
    "plt.show()"
   ]
  },
  {
   "cell_type": "code",
   "execution_count": 85,
   "id": "fa50af3d-1908-436e-bf59-1696abcec669",
   "metadata": {},
   "outputs": [
    {
     "data": {
      "image/png": "[encoded data removed]",
      "text/plain": [
       "<Figure size 800x600 with 2 Axes>"
      ]
     },
     "metadata": {},
     "output_type": "display_data"
    },
    {
     "name": "stdout",
     "output_type": "stream",
     "text": [
      "[[100  14]\n",
      " [ 29  37]]\n"
     ]
    }
   ],
   "source": [
    "# Sample actual and predicted labels\n",
    "y_test\n",
    "predicted = linear_reg.predict(X_Test)\n",
    "predicted_class = np.where(predicted >= 0.5, 1,0)\n",
    "\n",
    "# Compute the confusion matrix\n",
    "cm = confusion_matrix(y_test, predicted_class)\n",
    "\n",
    "# Visualize the confusion matrix\n",
    "plt.figure(figsize=(8, 6))\n",
    "sns.heatmap(cm, annot=True, fmt='d', cmap='Blues', xticklabels=['No Sepsis', 'Sepsis'], yticklabels=['No Sepsis', 'Sepsis'])\n",
    "plt.xlabel('Predicted Label')\n",
    "plt.ylabel('Actual Label')\n",
    "plt.title('Confusion Matrix')\n",
    "plt.show()\n",
    "\n",
    "print(cm)"
   ]
  },
  {
   "cell_type": "code",
   "execution_count": 87,
   "id": "fcd662bb-2cbb-4d7f-8b3f-9e51cb96a313",
   "metadata": {},
   "outputs": [
    {
     "data": {
      "image/png": "[encoded data removed]",
      "text/plain": [
       "<Figure size 800x600 with 2 Axes>"
      ]
     },
     "metadata": {},
     "output_type": "display_data"
    },
    {
     "name": "stdout",
     "output_type": "stream",
     "text": [
      "[[102  12]\n",
      " [ 40  26]]\n"
     ]
    }
   ],
   "source": [
    "# Sample actual and predicted labels\n",
    "y_test\n",
    "predicted = best_svr.predict(X_Test)\n",
    "predicted_class = np.where(predicted >= 0.5, 1,0)\n",
    "\n",
    "# Compute the confusion matrix\n",
    "cm = confusion_matrix(y_test, predicted_class)\n",
    "\n",
    "# Visualize the confusion matrix\n",
    "plt.figure(figsize=(8, 6))\n",
    "sns.heatmap(cm, annot=True, fmt='d', cmap='Blues', xticklabels=['No Sepsis', 'Sepsis'], yticklabels=['No Sepsis', 'Sepsis'])\n",
    "plt.xlabel('Predicted Label')\n",
    "plt.ylabel('Actual Label')\n",
    "plt.title('Confusion Matrix')\n",
    "plt.show()\n",
    "\n",
    "print(cm)"
   ]
  },
  {
   "cell_type": "code",
   "execution_count": null,
   "id": "5494d40d-b1f0-47e1-ae40-38f6a596bbb6",
   "metadata": {},
   "outputs": [],
   "source": []
  }
 ],
 "metadata": {
  "kernelspec": {
   "display_name": "Python [conda env:base] *",
   "language": "python",
   "name": "conda-base-py"
  },
  "language_info": {
   "codemirror_mode": {
    "name": "ipython",
    "version": 3
   },
   "file_extension": ".py",
   "mimetype": "text/x-python",
   "name": "python",
   "nbconvert_exporter": "python",
   "pygments_lexer": "ipython3",
   "version": "3.12.2"
  }
 },
 "nbformat": 4,
 "nbformat_minor": 5
}
